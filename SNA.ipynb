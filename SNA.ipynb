{
 "cells": [
  {
   "cell_type": "code",
   "execution_count": 1,
   "metadata": {},
   "outputs": [],
   "source": [
    "%load_ext autoreload\n",
    "%autoreload 2\n",
    "from utils import *"
   ]
  },
  {
   "cell_type": "code",
   "execution_count": 2,
   "metadata": {},
   "outputs": [],
   "source": [
    "df_raw = load_dataframe()"
   ]
  },
  {
   "cell_type": "code",
   "execution_count": 3,
   "metadata": {},
   "outputs": [
    {
     "data": {
      "text/html": [
       "<div>\n",
       "<style scoped>\n",
       "    .dataframe tbody tr th:only-of-type {\n",
       "        vertical-align: middle;\n",
       "    }\n",
       "\n",
       "    .dataframe tbody tr th {\n",
       "        vertical-align: top;\n",
       "    }\n",
       "\n",
       "    .dataframe thead th {\n",
       "        text-align: right;\n",
       "    }\n",
       "</style>\n",
       "<table border=\"1\" class=\"dataframe\">\n",
       "  <thead>\n",
       "    <tr style=\"text-align: right;\">\n",
       "      <th></th>\n",
       "      <th>text</th>\n",
       "      <th>label</th>\n",
       "    </tr>\n",
       "  </thead>\n",
       "  <tbody>\n",
       "    <tr>\n",
       "      <th>0</th>\n",
       "      <td>US trade gap ballooned in October\\n\\nThe US tr...</td>\n",
       "      <td>business</td>\n",
       "    </tr>\n",
       "    <tr>\n",
       "      <th>1</th>\n",
       "      <td>Japanese mogul arrested for fraud\\n\\nOne of Ja...</td>\n",
       "      <td>business</td>\n",
       "    </tr>\n",
       "    <tr>\n",
       "      <th>2</th>\n",
       "      <td>Jarvis sells Tube stake to Spain\\n\\nShares in ...</td>\n",
       "      <td>business</td>\n",
       "    </tr>\n",
       "    <tr>\n",
       "      <th>3</th>\n",
       "      <td>Small firms 'hit by rising costs'\\n\\nRising fu...</td>\n",
       "      <td>business</td>\n",
       "    </tr>\n",
       "    <tr>\n",
       "      <th>4</th>\n",
       "      <td>Oil prices fall back from highs\\n\\nOil prices ...</td>\n",
       "      <td>business</td>\n",
       "    </tr>\n",
       "  </tbody>\n",
       "</table>\n",
       "</div>"
      ],
      "text/plain": [
       "                                                text     label\n",
       "0  US trade gap ballooned in October\\n\\nThe US tr...  business\n",
       "1  Japanese mogul arrested for fraud\\n\\nOne of Ja...  business\n",
       "2  Jarvis sells Tube stake to Spain\\n\\nShares in ...  business\n",
       "3  Small firms 'hit by rising costs'\\n\\nRising fu...  business\n",
       "4  Oil prices fall back from highs\\n\\nOil prices ...  business"
      ]
     },
     "execution_count": 3,
     "metadata": {},
     "output_type": "execute_result"
    }
   ],
   "source": [
    "df_raw.head()"
   ]
  },
  {
   "cell_type": "code",
   "execution_count": 4,
   "metadata": {},
   "outputs": [],
   "source": [
    "PREPROCESSING_PIPELINE = [\n",
    "                        lower,\n",
    "                        # remove_emails,\n",
    "                        replace_special_characters,\n",
    "                        replace_br,\n",
    "                        filter_out_uncommon_symbols,\n",
    "                        remove_stopwords,\n",
    "                        strip_text\n",
    "                    ]"
   ]
  },
  {
   "cell_type": "code",
   "execution_count": 5,
   "metadata": {},
   "outputs": [
    {
     "name": "stdout",
     "output_type": "stream",
     "text": [
      "Pre-processing text...\n",
      "\n",
      "[Debug] Before:\n",
      "US trade gap ballooned in October\n",
      "\n",
      "The US trade deficit widened by more than expected in October, hitting record levels after higher oil prices raised import costs, figures have shown\n",
      "\n",
      "The trade shortfall was $55.5bn (£29bn), up 9% from September, the Commerce Department said. That pushed the 10 month deficit to $500.5bn. Imports rose by 3.4%, while exports increased by only 0.6%. A weaker dollar also increased the cost of imports, though this should help drive export demand in coming months. \"Things are getting worse, but that's to be expected,\" said David Wyss of Standard & Poor's in New York. \"The first thing is that when the dollar goes down, it increases the price of imports. \"We are seeing improved export orders. Things seem to be going in the right direction.\"\n",
      "\n",
      "Despite this optimism, significant concerns remain as to how the US will fund its trade and budget deficits should they continue to widen. Another problem highlighted by analysts was the growing trade gap with China, which has been accused of keeping its currency artificially weak in order to boost exports. The US imported almost $20bn worth of goods from China during October, exporting a little under $3bn. \"It seems the key worry that has existed in the currency market still remains,\" said Anthony Crescenzi, a bond strategist at Miller Tabak in New York. The trade deficit and the shortfall with China \"are big issues going forward\". The Commerce Department figures caused the dollar to weaken further despite widespread expectations that the Federal Reserve will raise interest rates for a fifth time this year. Borrowing costs are tipped to rise by a quarter of a percentage point to 2.25% at a Fed meeting later on Tuesday.\n",
      "\n",
      "\n",
      "[Debug] After:\n",
      "us trade gap ballooned october us trade deficit widened expected october hitting record levels higher oil prices raised import costs figures shown trade shortfall 555bn 29bn 9 september commerce department said pushed 10 month deficit 5005bn imports rose 34 exports increased 06 weaker dollar also increased cost imports though help drive export demand coming months things getting worse thats expected said david wyss standard poors new york first thing dollar goes increases price imports seeing improved export orders things seem going right direction despite optimism significant concerns remain us fund trade budget deficits continue widen another problem highlighted analysts growing trade gap china accused keeping currency artificially weak order boost exports us imported almost 20bn worth goods china october exporting little 3bn seems key worry existed currency market still remains said anthony crescenzi bond strategist miller tabak new york trade deficit shortfall china big issues going forward commerce department figures caused dollar weaken despite widespread expectations federal reserve raise interest rates fifth time year borrowing costs tipped rise quarter percentage point 225 fed meeting later tuesday\n",
      "\n",
      "Pre-processing completed!\n"
     ]
    }
   ],
   "source": [
    "print('Pre-processing text...')\n",
    " \n",
    "print()\n",
    "print(f'[Debug] Before:\\n{df_raw.text.values[0]}')\n",
    "print()\n",
    " \n",
    "# Replace each sentence with its pre-processed version\n",
    "df = df_raw.copy()\n",
    "df['text'] = df_raw['text'].apply(lambda txt: text_prepare(txt, PREPROCESSING_PIPELINE))\n",
    " \n",
    "print(f'[Debug] After:\\n{df.text.values[0]}')\n",
    "print()\n",
    " \n",
    "print(\"Pre-processing completed!\")"
   ]
  },
  {
   "cell_type": "code",
   "execution_count": 6,
   "metadata": {},
   "outputs": [
    {
     "name": "stdout",
     "output_type": "stream",
     "text": [
      "Loading existing vocabulary...\n",
      "Vocabulary loaded!\n"
     ]
    }
   ],
   "source": [
    "path = 'vocab/'\n",
    "if not os.path.exists(path):\n",
    "    os.makedirs(path)\n",
    "\n",
    "# Check if vocabulary has already been built\n",
    "if os.path.exists(path + 'idx_to_word.pkl') and os.path.exists(path + 'word_to_idx.pkl') and os.path.exists(path + 'word_listing.pkl'):\n",
    "    print('Loading existing vocabulary...')\n",
    "    idx_to_word, word_to_idx, word_listing = load_vocab()\n",
    "    print('Vocabulary loaded!')\n",
    "else:\n",
    "    print('Building vocabulary...')\n",
    "    idx_to_word, word_to_idx, word_listing = build_vocabulary(df)\n",
    "    print('Saving vocabulary...')\n",
    "    save_vocab(idx_to_word, word_to_idx, word_listing)\n",
    "    print('Vocabulary built!')"
   ]
  },
  {
   "cell_type": "code",
   "execution_count": 7,
   "metadata": {},
   "outputs": [
    {
     "name": "stdout",
     "output_type": "stream",
     "text": [
      "[Vocabulary Evaluation] Size checking...\n",
      "[Vocabulary Evaluation] Content checking...\n"
     ]
    },
    {
     "name": "stderr",
     "output_type": "stream",
     "text": [
      "100%|██████████| 32515/32515 [00:00<00:00, 1166759.02it/s]\n"
     ]
    },
    {
     "name": "stdout",
     "output_type": "stream",
     "text": [
      "[Vocabulary Evaluation] Consistency checking...\n"
     ]
    },
    {
     "name": "stderr",
     "output_type": "stream",
     "text": [
      "100%|██████████| 1000/1000 [00:00<00:00, 12964.51it/s]\n",
      "100%|██████████| 1000/1000 [00:00<00:00, 13613.01it/s]\n"
     ]
    },
    {
     "name": "stdout",
     "output_type": "stream",
     "text": [
      "[Vocabulary Evaluation] Toy example checking...\n"
     ]
    },
    {
     "name": "stderr",
     "output_type": "stream",
     "text": [
      "100%|██████████| 2/2 [00:00<00:00, 16225.55it/s]\n"
     ]
    }
   ],
   "source": [
    "evaluate_vocabulary(idx_to_word, word_to_idx, word_listing, df)"
   ]
  },
  {
   "cell_type": "code",
   "execution_count": 8,
   "metadata": {},
   "outputs": [],
   "source": [
    "df_train, df_test = split_dataframe(df)"
   ]
  },
  {
   "cell_type": "code",
   "execution_count": 9,
   "metadata": {},
   "outputs": [
    {
     "name": "stdout",
     "output_type": "stream",
     "text": [
      "Train size: 800\n"
     ]
    },
    {
     "data": {
      "text/html": [
       "<div>\n",
       "<style scoped>\n",
       "    .dataframe tbody tr th:only-of-type {\n",
       "        vertical-align: middle;\n",
       "    }\n",
       "\n",
       "    .dataframe tbody tr th {\n",
       "        vertical-align: top;\n",
       "    }\n",
       "\n",
       "    .dataframe thead th {\n",
       "        text-align: right;\n",
       "    }\n",
       "</style>\n",
       "<table border=\"1\" class=\"dataframe\">\n",
       "  <thead>\n",
       "    <tr style=\"text-align: right;\">\n",
       "      <th></th>\n",
       "      <th>text</th>\n",
       "      <th>label</th>\n",
       "    </tr>\n",
       "  </thead>\n",
       "  <tbody>\n",
       "    <tr>\n",
       "      <th>0</th>\n",
       "      <td>isinbayeva heads birmingham olympic pole vault...</td>\n",
       "      <td>sport</td>\n",
       "    </tr>\n",
       "    <tr>\n",
       "      <th>1</th>\n",
       "      <td>holmes urged compete worlds jolanda ceplak urg...</td>\n",
       "      <td>sport</td>\n",
       "    </tr>\n",
       "    <tr>\n",
       "      <th>2</th>\n",
       "      <td>article slagle93mar26205915 sgi417msdlmsclockh...</td>\n",
       "      <td>medical</td>\n",
       "    </tr>\n",
       "    <tr>\n",
       "      <th>3</th>\n",
       "      <td>lets start example pretty much everyone famili...</td>\n",
       "      <td>food</td>\n",
       "    </tr>\n",
       "    <tr>\n",
       "      <th>4</th>\n",
       "      <td>archivename space addresses lastmodified date ...</td>\n",
       "      <td>space</td>\n",
       "    </tr>\n",
       "  </tbody>\n",
       "</table>\n",
       "</div>"
      ],
      "text/plain": [
       "                                                text    label\n",
       "0  isinbayeva heads birmingham olympic pole vault...    sport\n",
       "1  holmes urged compete worlds jolanda ceplak urg...    sport\n",
       "2  article slagle93mar26205915 sgi417msdlmsclockh...  medical\n",
       "3  lets start example pretty much everyone famili...     food\n",
       "4  archivename space addresses lastmodified date ...    space"
      ]
     },
     "execution_count": 9,
     "metadata": {},
     "output_type": "execute_result"
    }
   ],
   "source": [
    "print(f'Train size: {len(df_train)}')\n",
    "df_train.head()"
   ]
  },
  {
   "cell_type": "code",
   "execution_count": 10,
   "metadata": {},
   "outputs": [
    {
     "name": "stdout",
     "output_type": "stream",
     "text": [
      "Test size: 200\n"
     ]
    },
    {
     "data": {
      "text/html": [
       "<div>\n",
       "<style scoped>\n",
       "    .dataframe tbody tr th:only-of-type {\n",
       "        vertical-align: middle;\n",
       "    }\n",
       "\n",
       "    .dataframe tbody tr th {\n",
       "        vertical-align: top;\n",
       "    }\n",
       "\n",
       "    .dataframe thead th {\n",
       "        text-align: right;\n",
       "    }\n",
       "</style>\n",
       "<table border=\"1\" class=\"dataframe\">\n",
       "  <thead>\n",
       "    <tr style=\"text-align: right;\">\n",
       "      <th></th>\n",
       "      <th>text</th>\n",
       "      <th>label</th>\n",
       "    </tr>\n",
       "  </thead>\n",
       "  <tbody>\n",
       "    <tr>\n",
       "      <th>0</th>\n",
       "      <td>yet mcclellan halleck proved reluctant take de...</td>\n",
       "      <td>historical</td>\n",
       "    </tr>\n",
       "    <tr>\n",
       "      <th>1</th>\n",
       "      <td>3 pounds chicken wings tips removed joints 2 p...</td>\n",
       "      <td>food</td>\n",
       "    </tr>\n",
       "    <tr>\n",
       "      <th>2</th>\n",
       "      <td>1psctiaqe traviscsdharriscom srp traviscsdharr...</td>\n",
       "      <td>graphics</td>\n",
       "    </tr>\n",
       "    <tr>\n",
       "      <th>3</th>\n",
       "      <td>know placebo effect patient feels better even ...</td>\n",
       "      <td>medical</td>\n",
       "    </tr>\n",
       "    <tr>\n",
       "      <th>4</th>\n",
       "      <td>star trek fans fight save show star trek fans ...</td>\n",
       "      <td>entertainment</td>\n",
       "    </tr>\n",
       "  </tbody>\n",
       "</table>\n",
       "</div>"
      ],
      "text/plain": [
       "                                                text          label\n",
       "0  yet mcclellan halleck proved reluctant take de...     historical\n",
       "1  3 pounds chicken wings tips removed joints 2 p...           food\n",
       "2  1psctiaqe traviscsdharriscom srp traviscsdharr...       graphics\n",
       "3  know placebo effect patient feels better even ...        medical\n",
       "4  star trek fans fight save show star trek fans ...  entertainment"
      ]
     },
     "execution_count": 10,
     "metadata": {},
     "output_type": "execute_result"
    }
   ],
   "source": [
    "print(f'Test size: {len(df_test)}')\n",
    "df_test.head()"
   ]
  },
  {
   "cell_type": "code",
   "execution_count": 11,
   "metadata": {},
   "outputs": [
    {
     "data": {
      "image/png": "[encoded data removed]",
      "text/plain": [
       "<Figure size 640x480 with 1 Axes>"
      ]
     },
     "metadata": {},
     "output_type": "display_data"
    }
   ],
   "source": [
    "plot_label_distribution(df_train)"
   ]
  },
  {
   "cell_type": "code",
   "execution_count": 12,
   "metadata": {},
   "outputs": [
    {
     "data": {
      "image/png": "[encoded data removed]",
      "text/plain": [
       "<Figure size 640x480 with 1 Axes>"
      ]
     },
     "metadata": {},
     "output_type": "display_data"
    }
   ],
   "source": [
    "plot_label_distribution(df_test)"
   ]
  },
  {
   "cell_type": "markdown",
   "metadata": {},
   "source": [
    "## Baseline"
   ]
  },
  {
   "cell_type": "code",
   "execution_count": 13,
   "metadata": {},
   "outputs": [
    {
     "name": "stdout",
     "output_type": "stream",
     "text": [
      "X_train shape: (800, 29189)\n",
      "X_test shape: (200, 29189)\n",
      "y_train shape: (800,)\n",
      "y_test shape: (200,)\n"
     ]
    }
   ],
   "source": [
    "# import tf-idf vectorizer\n",
    "from sklearn.feature_extraction.text import TfidfVectorizer\n",
    "# tf-idf vectorizer\n",
    "vectorizer = TfidfVectorizer()\n",
    "vectorizer.fit(df_train.text.values)\n",
    "\n",
    "# Transform each text into a vector of word counts\n",
    "X_train = vectorizer.transform(df_train.text.values)\n",
    "X_test = vectorizer.transform(df_test.text.values)\n",
    "\n",
    "# Transform each label into a vector\n",
    "y_train = df_train.label.values\n",
    "y_test = df_test.label.values\n",
    "\n",
    "print(f'X_train shape: {X_train.shape}')\n",
    "print(f'X_test shape: {X_test.shape}')\n",
    "print(f'y_train shape: {y_train.shape}')\n",
    "print(f'y_test shape: {y_test.shape}')\n"
   ]
  },
  {
   "cell_type": "code",
   "execution_count": 14,
   "metadata": {},
   "outputs": [
    {
     "name": "stdout",
     "output_type": "stream",
     "text": [
      "Logistic Regression Accuracy Score ->  98.0\n"
     ]
    }
   ],
   "source": [
    "# train a logistic regression classifier\n",
    "from sklearn.linear_model import LogisticRegression\n",
    "classifier = LogisticRegression()\n",
    "classifier.fit(X_train, y_train)\n",
    "\n",
    "# predict the labels on validation dataset\n",
    "y_pred = classifier.predict(X_test)\n",
    "\n",
    "# import metrics library\n",
    "from sklearn import metrics\n",
    "# Use accuracy_score function to get the accuracy\n",
    "print(\"Logistic Regression Accuracy Score -> \", metrics.accuracy_score(y_pred, y_test)*100)\n"
   ]
  },
  {
   "cell_type": "code",
   "execution_count": 15,
   "metadata": {},
   "outputs": [
    {
     "name": "stdout",
     "output_type": "stream",
     "text": [
      "SVM Accuracy Score ->  96.5\n"
     ]
    }
   ],
   "source": [
    "# train another classifier\n",
    "from sklearn.svm import SVC\n",
    "classifier = SVC()\n",
    "classifier.fit(X_train, y_train)\n",
    "\n",
    "# predict the labels on validation dataset\n",
    "y_pred = classifier.predict(X_test)\n",
    "\n",
    "# Use accuracy_score function to get the accuracy\n",
    "print(\"SVM Accuracy Score -> \", metrics.accuracy_score(y_pred, y_test)*100)"
   ]
  },
  {
   "cell_type": "code",
   "execution_count": 16,
   "metadata": {},
   "outputs": [],
   "source": [
    "frase_test = [\n",
    "    \"The essence of Sicily wrapped in a single pastry... unmistakable scents and textures bite after bite. Sicilian cannoli are the pride of this beautiful island, together with cassata, irises, almond pastries.... these are among the most popular desserts in the world. Served as a dessert in restaurants to be enjoyed in their original format or the mignon version, Sicilian cannoli are enchanting with their typical bubbled surface and the shimmering ricotta cream in the windows of pastry shops. They attract attention all along the streets of Sicilian towns or during events, sold as sweet street food to be filled at the last moment. Like all regional recipes, there are secrets and versions of Sicilian cannoli that change from city to city or family to family: some people choose to add cocoa and Marsala wine to the dough, just as we did. Others use a shell flavoring of coffee or cinnamon! The ricotta cream, on the other hand, is almost always enriched with chocolate bits and the finished cannoli are often garnished with pistachios, chocolate chips or candied fruit... in short, you will be spoiled with your choices in how to enjoy them! But the basic rule is this: cannoli must be filled at the last minute to enjoy all their crunchiness!\",\n",
    "    \"Comparing the performance of the stock with the S&P-500 , on a weekly basis, we note that Seagate Technology maintains positive relative strength in comparison with the index, demonstrating a greater appreciation by investors compared to the index itself (weekly performance + 1.5%, compared to -3.84% for the US basketball index ). The general technical context highlights bearish implications that are strengthening for the leader in the production of hard disk drivers , with negative stresses such as to force levels towards the support area estimated at USD 66.78. Contrary to expectations, however, bullish pressures could push prices up to 68.99 where there is an important resistance level. The dominance of the bears fuels negative expectations for the next session with a potential target set at 65.68. The indications are to be considered mere information tools, and are in no way intended to constitute financial advice, solicitation for public savings or promote any form of investment.\"\n",
    "]\n",
    "\n",
    "frase_test = [text_prepare(txt, PREPROCESSING_PIPELINE) for txt in frase_test]\n",
    "frase_test = vectorizer.transform(frase_test)\n",
    "y_pred = classifier.predict(frase_test)\n"
   ]
  },
  {
   "cell_type": "code",
   "execution_count": 17,
   "metadata": {},
   "outputs": [
    {
     "data": {
      "text/plain": [
       "array(['food', 'business'], dtype=object)"
      ]
     },
     "execution_count": 17,
     "metadata": {},
     "output_type": "execute_result"
    }
   ],
   "source": [
    "y_pred"
   ]
  }
 ],
 "metadata": {
  "kernelspec": {
   "display_name": "Python 3",
   "language": "python",
   "name": "python3"
  },
  "language_info": {
   "codemirror_mode": {
    "name": "ipython",
    "version": 3
   },
   "file_extension": ".py",
   "mimetype": "text/x-python",
   "name": "python",
   "nbconvert_exporter": "python",
   "pygments_lexer": "ipython3",
   "version": "3.10.12"
  }
 },
 "nbformat": 4,
 "nbformat_minor": 2
}
