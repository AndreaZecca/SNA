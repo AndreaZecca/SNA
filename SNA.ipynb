{
 "cells": [
  {
   "cell_type": "code",
   "execution_count": 21,
   "metadata": {},
   "outputs": [
    {
     "name": "stdout",
     "output_type": "stream",
     "text": [
      "The autoreload extension is already loaded. To reload it, use:\n",
      "  %reload_ext autoreload\n"
     ]
    }
   ],
   "source": [
    "%load_ext autoreload\n",
    "%autoreload 2\n",
    "from utils import *"
   ]
  },
  {
   "cell_type": "code",
   "execution_count": 22,
   "metadata": {},
   "outputs": [],
   "source": [
    "df = load_dataframe()"
   ]
  },
  {
   "cell_type": "code",
   "execution_count": 23,
   "metadata": {},
   "outputs": [
    {
     "data": {
      "text/html": [
       "<div>\n",
       "<style scoped>\n",
       "    .dataframe tbody tr th:only-of-type {\n",
       "        vertical-align: middle;\n",
       "    }\n",
       "\n",
       "    .dataframe tbody tr th {\n",
       "        vertical-align: top;\n",
       "    }\n",
       "\n",
       "    .dataframe thead th {\n",
       "        text-align: right;\n",
       "    }\n",
       "</style>\n",
       "<table border=\"1\" class=\"dataframe\">\n",
       "  <thead>\n",
       "    <tr style=\"text-align: right;\">\n",
       "      <th></th>\n",
       "      <th>text</th>\n",
       "      <th>label</th>\n",
       "    </tr>\n",
       "  </thead>\n",
       "  <tbody>\n",
       "    <tr>\n",
       "      <th>0</th>\n",
       "      <td>US trade gap ballooned in October\\n\\nThe US tr...</td>\n",
       "      <td>business</td>\n",
       "    </tr>\n",
       "    <tr>\n",
       "      <th>1</th>\n",
       "      <td>Japanese mogul arrested for fraud\\n\\nOne of Ja...</td>\n",
       "      <td>business</td>\n",
       "    </tr>\n",
       "    <tr>\n",
       "      <th>2</th>\n",
       "      <td>Jarvis sells Tube stake to Spain\\n\\nShares in ...</td>\n",
       "      <td>business</td>\n",
       "    </tr>\n",
       "    <tr>\n",
       "      <th>3</th>\n",
       "      <td>Small firms 'hit by rising costs'\\n\\nRising fu...</td>\n",
       "      <td>business</td>\n",
       "    </tr>\n",
       "    <tr>\n",
       "      <th>4</th>\n",
       "      <td>Oil prices fall back from highs\\n\\nOil prices ...</td>\n",
       "      <td>business</td>\n",
       "    </tr>\n",
       "  </tbody>\n",
       "</table>\n",
       "</div>"
      ],
      "text/plain": [
       "                                                text     label\n",
       "0  US trade gap ballooned in October\\n\\nThe US tr...  business\n",
       "1  Japanese mogul arrested for fraud\\n\\nOne of Ja...  business\n",
       "2  Jarvis sells Tube stake to Spain\\n\\nShares in ...  business\n",
       "3  Small firms 'hit by rising costs'\\n\\nRising fu...  business\n",
       "4  Oil prices fall back from highs\\n\\nOil prices ...  business"
      ]
     },
     "execution_count": 23,
     "metadata": {},
     "output_type": "execute_result"
    }
   ],
   "source": [
    "df.head()"
   ]
  },
  {
   "cell_type": "code",
   "execution_count": 24,
   "metadata": {},
   "outputs": [],
   "source": [
    "PREPROCESSING_PIPELINE = [\n",
    "                        lower,\n",
    "                        replace_special_characters,\n",
    "                        replace_br,\n",
    "                        filter_out_uncommon_symbols,\n",
    "                        remove_stopwords,\n",
    "                        strip_text\n",
    "                        ]"
   ]
  },
  {
   "cell_type": "code",
   "execution_count": 27,
   "metadata": {},
   "outputs": [
    {
     "name": "stdout",
     "output_type": "stream",
     "text": [
      "Pre-processing text...\n",
      "\n",
      "[Debug] Before:\n",
      "us trade gap ballooned octoberthe us trade deficit widened expected october hitting record levels higher oil prices raised import costs figures shownthe trade shortfall 555bn 29bn 9 september commerce department said pushed 10 month deficit 5005bn imports rose 34 exports increased 06 weaker dollar also increased cost imports though help drive export demand coming months things getting worse thats expected said david wyss standard poors new york first thing dollar goes increases price imports seeing improved export orders things seem going right directiondespite optimism significant concerns remain us fund trade budget deficits continue widen another problem highlighted analysts growing trade gap china accused keeping currency artificially weak order boost exports us imported almost 20bn worth goods china october exporting little 3bn seems key worry existed currency market still remains said anthony crescenzi bond strategist miller tabak new york trade deficit shortfall china big issues going forward commerce department figures caused dollar weaken despite widespread expectations federal reserve raise interest rates fifth time year borrowing costs tipped rise quarter percentage point 225 fed meeting later tuesday\n",
      "\n",
      "[Debug] After:\n",
      "us trade gap ballooned octoberthe us trade deficit widened expected october hitting record levels higher oil prices raised import costs figures shownthe trade shortfall 555bn 29bn 9 september commerce department said pushed 10 month deficit 5005bn imports rose 34 exports increased 06 weaker dollar also increased cost imports though help drive export demand coming months things getting worse thats expected said david wyss standard poors new york first thing dollar goes increases price imports seeing improved export orders things seem going right directiondespite optimism significant concerns remain us fund trade budget deficits continue widen another problem highlighted analysts growing trade gap china accused keeping currency artificially weak order boost exports us imported almost 20bn worth goods china october exporting little 3bn seems key worry existed currency market still remains said anthony crescenzi bond strategist miller tabak new york trade deficit shortfall china big issues going forward commerce department figures caused dollar weaken despite widespread expectations federal reserve raise interest rates fifth time year borrowing costs tipped rise quarter percentage point 225 fed meeting later tuesday\n",
      "\n",
      "Pre-processing completed!\n"
     ]
    }
   ],
   "source": [
    "print('Pre-processing text...')\n",
    " \n",
    "print()\n",
    "print(f'[Debug] Before:\\n{df.text.values[0]}')\n",
    "print()\n",
    " \n",
    "# Replace each sentence with its pre-processed version\n",
    "df['text'] = df['text'].apply(lambda txt: text_prepare(txt, PREPROCESSING_PIPELINE))\n",
    " \n",
    "print(f'[Debug] After:\\n{df.text.values[0]}')\n",
    "print()\n",
    " \n",
    "print(\"Pre-processing completed!\")"
   ]
  }
 ],
 "metadata": {
  "kernelspec": {
   "display_name": "Python 3",
   "language": "python",
   "name": "python3"
  },
  "language_info": {
   "codemirror_mode": {
    "name": "ipython",
    "version": 3
   },
   "file_extension": ".py",
   "mimetype": "text/x-python",
   "name": "python",
   "nbconvert_exporter": "python",
   "pygments_lexer": "ipython3",
   "version": "3.10.12"
  }
 },
 "nbformat": 4,
 "nbformat_minor": 2
}
