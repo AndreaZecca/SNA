{
 "cells": [
  {
   "cell_type": "code",
   "execution_count": 17,
   "metadata": {},
   "outputs": [
    {
     "name": "stdout",
     "output_type": "stream",
     "text": [
      "The autoreload extension is already loaded. To reload it, use:\n",
      "  %reload_ext autoreload\n"
     ]
    }
   ],
   "source": [
    "%load_ext autoreload\n",
    "%autoreload 2\n",
    "from utils import *"
   ]
  },
  {
   "cell_type": "code",
   "execution_count": 18,
   "metadata": {},
   "outputs": [],
   "source": [
    "df_raw = load_dataframe()"
   ]
  },
  {
   "cell_type": "code",
   "execution_count": 19,
   "metadata": {},
   "outputs": [
    {
     "data": {
      "text/html": [
       "<div>\n",
       "<style scoped>\n",
       "    .dataframe tbody tr th:only-of-type {\n",
       "        vertical-align: middle;\n",
       "    }\n",
       "\n",
       "    .dataframe tbody tr th {\n",
       "        vertical-align: top;\n",
       "    }\n",
       "\n",
       "    .dataframe thead th {\n",
       "        text-align: right;\n",
       "    }\n",
       "</style>\n",
       "<table border=\"1\" class=\"dataframe\">\n",
       "  <thead>\n",
       "    <tr style=\"text-align: right;\">\n",
       "      <th></th>\n",
       "      <th>text</th>\n",
       "      <th>label</th>\n",
       "    </tr>\n",
       "  </thead>\n",
       "  <tbody>\n",
       "    <tr>\n",
       "      <th>0</th>\n",
       "      <td>US trade gap ballooned in October\\n\\nThe US tr...</td>\n",
       "      <td>business</td>\n",
       "    </tr>\n",
       "    <tr>\n",
       "      <th>1</th>\n",
       "      <td>Japanese mogul arrested for fraud\\n\\nOne of Ja...</td>\n",
       "      <td>business</td>\n",
       "    </tr>\n",
       "    <tr>\n",
       "      <th>2</th>\n",
       "      <td>Jarvis sells Tube stake to Spain\\n\\nShares in ...</td>\n",
       "      <td>business</td>\n",
       "    </tr>\n",
       "    <tr>\n",
       "      <th>3</th>\n",
       "      <td>Small firms 'hit by rising costs'\\n\\nRising fu...</td>\n",
       "      <td>business</td>\n",
       "    </tr>\n",
       "    <tr>\n",
       "      <th>4</th>\n",
       "      <td>Oil prices fall back from highs\\n\\nOil prices ...</td>\n",
       "      <td>business</td>\n",
       "    </tr>\n",
       "  </tbody>\n",
       "</table>\n",
       "</div>"
      ],
      "text/plain": [
       "                                                text     label\n",
       "0  US trade gap ballooned in October\\n\\nThe US tr...  business\n",
       "1  Japanese mogul arrested for fraud\\n\\nOne of Ja...  business\n",
       "2  Jarvis sells Tube stake to Spain\\n\\nShares in ...  business\n",
       "3  Small firms 'hit by rising costs'\\n\\nRising fu...  business\n",
       "4  Oil prices fall back from highs\\n\\nOil prices ...  business"
      ]
     },
     "execution_count": 19,
     "metadata": {},
     "output_type": "execute_result"
    }
   ],
   "source": [
    "df_raw.head()"
   ]
  },
  {
   "cell_type": "code",
   "execution_count": 20,
   "metadata": {},
   "outputs": [],
   "source": [
    "PREPROCESSING_PIPELINE = [\n",
    "                        lower,\n",
    "                        remove_emails,\n",
    "                        replace_special_characters,\n",
    "                        replace_br,\n",
    "                        filter_out_uncommon_symbols,\n",
    "                        remove_stopwords,\n",
    "                        strip_text\n",
    "                    ]"
   ]
  },
  {
   "cell_type": "code",
   "execution_count": 21,
   "metadata": {},
   "outputs": [
    {
     "name": "stdout",
     "output_type": "stream",
     "text": [
      "Pre-processing text...\n",
      "\n",
      "[Debug] Before:\n",
      "US trade gap ballooned in October\n",
      "\n",
      "The US trade deficit widened by more than expected in October, hitting record levels after higher oil prices raised import costs, figures have shown\n",
      "\n",
      "The trade shortfall was $55.5bn (£29bn), up 9% from September, the Commerce Department said. That pushed the 10 month deficit to $500.5bn. Imports rose by 3.4%, while exports increased by only 0.6%. A weaker dollar also increased the cost of imports, though this should help drive export demand in coming months. \"Things are getting worse, but that's to be expected,\" said David Wyss of Standard & Poor's in New York. \"The first thing is that when the dollar goes down, it increases the price of imports. \"We are seeing improved export orders. Things seem to be going in the right direction.\"\n",
      "\n",
      "Despite this optimism, significant concerns remain as to how the US will fund its trade and budget deficits should they continue to widen. Another problem highlighted by analysts was the growing trade gap with China, which has been accused of keeping its currency artificially weak in order to boost exports. The US imported almost $20bn worth of goods from China during October, exporting a little under $3bn. \"It seems the key worry that has existed in the currency market still remains,\" said Anthony Crescenzi, a bond strategist at Miller Tabak in New York. The trade deficit and the shortfall with China \"are big issues going forward\". The Commerce Department figures caused the dollar to weaken further despite widespread expectations that the Federal Reserve will raise interest rates for a fifth time this year. Borrowing costs are tipped to rise by a quarter of a percentage point to 2.25% at a Fed meeting later on Tuesday.\n",
      "\n",
      "\n"
     ]
    },
    {
     "name": "stdout",
     "output_type": "stream",
     "text": [
      "[Debug] After:\n",
      "us trade gap ballooned october us trade deficit widened expected october hitting record levels higher oil prices raised import costs figures shown trade shortfall 555bn 29bn 9 september commerce department said pushed 10 month deficit 5005bn imports rose 34 exports increased 06 weaker dollar also increased cost imports though help drive export demand coming months things getting worse thats expected said david wyss standard poors new york first thing dollar goes increases price imports seeing improved export orders things seem going right direction despite optimism significant concerns remain us fund trade budget deficits continue widen another problem highlighted analysts growing trade gap china accused keeping currency artificially weak order boost exports us imported almost 20bn worth goods china october exporting little 3bn seems key worry existed currency market still remains said anthony crescenzi bond strategist miller tabak new york trade deficit shortfall china big issues going forward commerce department figures caused dollar weaken despite widespread expectations federal reserve raise interest rates fifth time year borrowing costs tipped rise quarter percentage point 225 fed meeting later tuesday\n",
      "\n",
      "Pre-processing completed!\n"
     ]
    }
   ],
   "source": [
    "print('Pre-processing text...')\n",
    " \n",
    "print()\n",
    "print(f'[Debug] Before:\\n{df_raw.text.values[0]}')\n",
    "print()\n",
    " \n",
    "# Replace each sentence with its pre-processed version\n",
    "df = df_raw.copy()\n",
    "df['text'] = df_raw['text'].apply(lambda txt: text_prepare(txt, PREPROCESSING_PIPELINE))\n",
    "\n",
    "print(f'[Debug] After:\\n{df.text.values[0]}')\n",
    "print()\n",
    " \n",
    "print(\"Pre-processing completed!\")"
   ]
  },
  {
   "cell_type": "code",
   "execution_count": 22,
   "metadata": {},
   "outputs": [],
   "source": [
    "# drop from df rows where text number of words are less than 50\n",
    "df = df[df['text'].apply(lambda x: len(x.split()) > 100)]"
   ]
  },
  {
   "cell_type": "code",
   "execution_count": 23,
   "metadata": {},
   "outputs": [
    {
     "name": "stdout",
     "output_type": "stream",
     "text": [
      "Loading existing vocabulary...\n",
      "Vocabulary loaded!\n"
     ]
    }
   ],
   "source": [
    "path = 'vocab/'\n",
    "if not os.path.exists(path):\n",
    "    os.makedirs(path)\n",
    "\n",
    "# Check if vocabulary has already been built\n",
    "vocab_regex = re.compile(r'idx_to_word\\.pkl|word_to_idx\\.pkl|word_listing\\.pkl')\n",
    "\n",
    "if len(os.listdir(path)) > 0 and all([vocab_regex.search(f) for f in os.listdir(path)]):\n",
    "    print('Loading existing vocabulary...')\n",
    "    idx_to_word, word_to_idx, word_listing = load_vocab()\n",
    "    print('Vocabulary loaded!')\n",
    "else:\n",
    "    print('Building vocabulary...')\n",
    "    idx_to_word, word_to_idx, word_listing = build_vocabulary(df)\n",
    "    print('Saving vocabulary...')\n",
    "    save_vocab(idx_to_word, word_to_idx, word_listing)\n",
    "    print('Vocabulary built!')"
   ]
  },
  {
   "cell_type": "code",
   "execution_count": 24,
   "metadata": {},
   "outputs": [
    {
     "name": "stdout",
     "output_type": "stream",
     "text": [
      "[Vocabulary Evaluation] Size checking...\n",
      "[Vocabulary Evaluation] Content checking...\n"
     ]
    },
    {
     "name": "stderr",
     "output_type": "stream",
     "text": [
      "  0%|          | 0/31383 [00:00<?, ?it/s]"
     ]
    },
    {
     "name": "stderr",
     "output_type": "stream",
     "text": [
      "100%|██████████| 31383/31383 [00:00<00:00, 1080119.50it/s]\n"
     ]
    },
    {
     "name": "stdout",
     "output_type": "stream",
     "text": [
      "[Vocabulary Evaluation] Consistency checking...\n"
     ]
    },
    {
     "name": "stderr",
     "output_type": "stream",
     "text": [
      "100%|██████████| 783/783 [00:00<00:00, 17458.61it/s]\n",
      "100%|██████████| 783/783 [00:00<00:00, 19596.28it/s]\n"
     ]
    },
    {
     "name": "stdout",
     "output_type": "stream",
     "text": [
      "[Vocabulary Evaluation] Toy example checking...\n"
     ]
    },
    {
     "name": "stderr",
     "output_type": "stream",
     "text": [
      "100%|██████████| 2/2 [00:00<00:00, 19284.16it/s]\n"
     ]
    }
   ],
   "source": [
    "evaluate_vocabulary(idx_to_word, word_to_idx, word_listing, df)"
   ]
  },
  {
   "cell_type": "code",
   "execution_count": 25,
   "metadata": {},
   "outputs": [],
   "source": [
    "corpus_len = df['text'].apply(lambda x: len(x.split(' '))).values\n",
    "max_nodes_in_graph = np.min(corpus_len)"
   ]
  },
  {
   "cell_type": "code",
   "execution_count": 26,
   "metadata": {},
   "outputs": [
    {
     "data": {
      "image/png": "[encoded data removed]",
      "text/plain": [
       "<Figure size 1200x600 with 1 Axes>"
      ]
     },
     "metadata": {},
     "output_type": "display_data"
    }
   ],
   "source": [
    "plot_label_distribution([df], labels=['Dataset'])"
   ]
  },
  {
   "cell_type": "markdown",
   "metadata": {},
   "source": [
    "## PMI"
   ]
  },
  {
   "cell_type": "code",
   "execution_count": 27,
   "metadata": {},
   "outputs": [],
   "source": [
    "text_tests = df['text'].values\n",
    "PMIs = []\n",
    "W2Is = []\n",
    "I2Ws = []\n",
    "for text in text_tests:\n",
    "    PMI, WTI, ITW = compute_pmi(text)\n",
    "    PMIs.append(PMI)\n",
    "    W2Is.append(WTI)\n",
    "    I2Ws.append(ITW)"
   ]
  },
  {
   "cell_type": "code",
   "execution_count": 28,
   "metadata": {},
   "outputs": [],
   "source": [
    "PMIs_thr = []\n",
    "for pmi in PMIs:\n",
    "    threshold = compute_threshold(pmi)\n",
    "    PMIs_thr.append(threshold_pmi(pmi, threshold))"
   ]
  },
  {
   "cell_type": "code",
   "execution_count": 29,
   "metadata": {},
   "outputs": [],
   "source": [
    "centrality_measure = 'degree'\n",
    "PMIs_centrality = [compute_centrality(pmi, centrality_measure) for pmi in PMIs_thr]\n",
    "# sort by centrality\n",
    "PMIs_centrality = [sorted(pmi.items(), key=lambda x: x[1], reverse=True) for pmi in PMIs_centrality]\n",
    "\n",
    "# get top max_node_in_graph words\n",
    "PMIs_centrality = [pmi[:max_nodes_in_graph] for pmi in PMIs_centrality]"
   ]
  },
  {
   "cell_type": "code",
   "execution_count": 30,
   "metadata": {},
   "outputs": [],
   "source": [
    "import sklearn\n",
    "from sklearn import cluster\n",
    "\n",
    "# Construct a similarity matrix from the PMI matrices\n",
    "similarity_matrix = np.zeros((len(PMIs), len(PMIs)))\n",
    "for i in range(len(PMIs)):\n",
    "  for j in range(len(PMIs)):\n",
    "    pmi_to_check = [PMIs[i], PMIs[j]]\n",
    "    pmi_centrality_to_check = [get_index_from_measure_matrix(PMIs_centrality[i]), get_index_from_measure_matrix(PMIs_centrality[j])]\n",
    "    i2w_to_check = [I2Ws[i], I2Ws[j]]\n",
    "    w2i_to_check = [W2Is[i], W2Is[j]]\n",
    "    similarity_matrix[i, j] = compute_similarity_score(pmi_to_check, pmi_centrality_to_check, i2w_to_check, w2i_to_check)\n",
    "\n",
    "\n",
    "# print(similarity_matrix)\n",
    "# Choose a clustering algorithm\n",
    "kmeans = sklearn.cluster.KMeans(n_clusters=10)\n",
    "\n",
    "# Apply the clustering algorithm to the similarity matrix\n",
    "cluster_labels = kmeans.fit_predict(similarity_matrix)"
   ]
  },
  {
   "cell_type": "code",
   "execution_count": 31,
   "metadata": {},
   "outputs": [],
   "source": [
    "def assign_classes_to_clusters_with_highest_number_of_elements(kmeans_labels, ground_truth_labels):  \n",
    "    cluster_to_class_counts = {}\n",
    "    for i in range(len(kmeans_labels)):\n",
    "        cluster_label = kmeans_labels[i]\n",
    "        ground_truth_label = ground_truth_labels[i]\n",
    "        if cluster_label not in cluster_to_class_counts:\n",
    "            cluster_to_class_counts[cluster_label] = {}\n",
    "        if ground_truth_label not in cluster_to_class_counts[cluster_label]:\n",
    "            cluster_to_class_counts[cluster_label][ground_truth_label] = 0\n",
    "        cluster_to_class_counts[cluster_label][ground_truth_label] += 1\n",
    "    cluster_to_class_labels = {}\n",
    "    for cluster_label in cluster_to_class_counts:\n",
    "        max_count_class_label = max(cluster_to_class_counts[cluster_label].items(), key=lambda item: item[1])[0]\n",
    "        cluster_to_class_labels[cluster_label] = max_count_class_label   \n",
    "    return cluster_to_class_labels"
   ]
  },
  {
   "cell_type": "code",
   "execution_count": 32,
   "metadata": {},
   "outputs": [
    {
     "name": "stdout",
     "output_type": "stream",
     "text": [
      "Accuracy: 0.5772669220945083\n"
     ]
    }
   ],
   "source": [
    "kmeans_labels = cluster_labels\n",
    "ground_truth_labels = df['label'].values\n",
    "cluster_to_class_labels = assign_classes_to_clusters_with_highest_number_of_elements(kmeans_labels, ground_truth_labels)\n",
    "accuracy = np.mean([cluster_to_class_labels[kmeans_labels[i]] == ground_truth_labels[i] for i in range(len(kmeans_labels))])\n",
    "print('Accuracy:', accuracy)"
   ]
  }
 ],
 "metadata": {
  "kernelspec": {
   "display_name": "Python 3",
   "language": "python",
   "name": "python3"
  },
  "language_info": {
   "codemirror_mode": {
    "name": "ipython",
    "version": 3
   },
   "file_extension": ".py",
   "mimetype": "text/x-python",
   "name": "python",
   "nbconvert_exporter": "python",
   "pygments_lexer": "ipython3",
   "version": "3.10.12"
  }
 },
 "nbformat": 4,
 "nbformat_minor": 2
}
